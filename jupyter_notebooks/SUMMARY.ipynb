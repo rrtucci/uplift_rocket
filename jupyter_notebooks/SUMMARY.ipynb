{
 "cells": [
  {
   "cell_type": "markdown",
   "metadata": {},
   "source": [
    "# SUMMARY notebook\n",
    "\n",
    "This notebook scans the directory in which it lives to find all jupyter notebooks (other than itself) in that directory. It then prints for every notebook it finds (1) a hyperlink to the notebook, and (2) the first cell (which is always markdown) of the notebook. This way you can read a nice, automatically generated summary of all the notebooks without having to open all of them. If you find a notebook that you want to explore further, you can simply click on its link to open it."
   ]
  },
  {
   "cell_type": "code",
   "execution_count": 1,
   "metadata": {},
   "outputs": [
    {
     "data": {
      "text/markdown": [
       "\n",
       "\n",
       "<hr style=\"height:10px; background-color: blue;\">\n",
       "\n",
       "a-b-testing.ipynb [<a href=\"a-b-testing.ipynb\" target= \"_blank\">local link</a>]  [<a href=\"https://github.com/rrtucci/uplift_rocket/blob/master/jupyter_notebooks/a-b-testing.ipynb\">github link</a>] 1/3\n",
       "\n",
       "# A/B testing\n",
       "![bnet-hypothesis-testing](../pics/bnet-hypothesis-testing.png)\n",
       "This figure comes from the chapter entitled \"A/B testing\" in my book \"Bayesuvius\".\n",
       "The purpose of this notebook is to calculate the quantities at the leaf nodes and maybe some intermediate quatities too, given the quantities at root nodes, using the statistics packages of `scipy`. (Written with help from ChatGPT)\n",
       "\n",
       "<hr style=\"height:10px; background-color: blue;\">\n",
       "\n",
       "significance-level.ipynb [<a href=\"significance-level.ipynb\" target= \"_blank\">local link</a>]  [<a href=\"https://github.com/rrtucci/uplift_rocket/blob/master/jupyter_notebooks/significance-level.ipynb\">github link</a>] 2/3\n",
       "\n",
       "# Converting Significance Level (α) to Z-Score and Vice Versa Using SciPy\n",
       "\n",
       "(written with help from Grok)\n",
       "This notebook demonstrates how to convert between a significance level (α) and a Z-score using Python's `scipy.stats.norm` module, which provides functions for the standard normal distribution. We include formulas, Python code, and explanations for both conversions, covering one-tailed and two-tailed tests.\n",
       "\n",
       "\n",
       "<hr style=\"height:10px; background-color: blue;\">\n",
       "\n",
       "uplift-modelling.ipynb [<a href=\"uplift-modelling.ipynb\" target= \"_blank\">local link</a>]  [<a href=\"https://github.com/rrtucci/uplift_rocket/blob/master/jupyter_notebooks/uplift-modelling.ipynb\">github link</a>] 3/3\n",
       "\n",
       "# Uplift modelling\n",
       "\n",
       "Check out the chapter entitled \"Uplift Modelling\" in my book \"Bayesuvius\". https://github.com/rrtucci/Bayesuvius\n",
       "\n",
       "This notebook is a subset of some notebooks in the software package https://github.com/maks-sh/scikit-uplift (scilift) See that repo for more illustrations of scilift usage.\n",
       "\n",
       "scilift has various datasets to test the software with. This notebook is based on the X5_RetailHero dataset, except that we reduce that dataset to 1/100 the number of clients. This speeds things up and saves storage space, but gives very poor statistics. To see the result for the full dataset that gives much better statistics, see the notebook:\n",
       "\n",
       "https://github.com/maks-sh/scikit-uplift/blob/master/notebooks/uplift_model_selection_tutorial.ipynb\n"
      ],
      "text/plain": [
       "<IPython.core.display.Markdown object>"
      ]
     },
     "metadata": {},
     "output_type": "display_data"
    }
   ],
   "source": [
    "# Version: 2\n",
    "import os\n",
    "import json\n",
    "from IPython.display import display, Markdown\n",
    "\n",
    "# the name of this file\n",
    "this_fname = 'SUMMARY.ipynb'\n",
    "fname_to_md = {}\n",
    "for fname in sorted([x for x in os.listdir('./')]):\n",
    "    if fname[-6:] == '.ipynb'  and fname != this_fname:\n",
    "        # print('------------', fname)\n",
    "        with open(fname, 'r', encoding=\"utf-8\") as f:\n",
    "            fdata = json.load(f)\n",
    "            fname_to_md[fname] = ''.join(fdata['cells'][0]['source'])\n",
    "# print(fname_to_md)\n",
    "pre_sep = '\\n\\n<hr style=\"height:10px; background-color: blue;\">\\n\\n'\n",
    "full_md = ''\n",
    "k = 1\n",
    "num_nb = len(fname_to_md)\n",
    "project_name =\"uplift_rocket\"\n",
    "who =\"rrtucci\"\n",
    "where = \"jupyter_notebooks\"\n",
    "for fname, md in fname_to_md.items():\n",
    "    sep = pre_sep\n",
    "    local_link = f' [<a href=\"{fname}\" target= \"_blank\">local link</a>] '\n",
    "    github_link = f' [<a href=\"https://github.com/{who}/{project_name}/blob/master/{where}/' +\\\n",
    "        f'{fname}\">github link</a>] '\n",
    "    sep += fname + local_link + github_link + str(k) + '/' + str(num_nb) + '\\n\\n'\n",
    "    full_md += sep + md\n",
    "    k += 1\n",
    "display(Markdown(full_md))"
   ]
  }
 ],
 "metadata": {
  "kernelspec": {
   "display_name": "Python 3 (ipykernel)",
   "language": "python",
   "name": "python3"
  },
  "language_info": {
   "codemirror_mode": {
    "name": "ipython",
    "version": 3
   },
   "file_extension": ".py",
   "mimetype": "text/x-python",
   "name": "python",
   "nbconvert_exporter": "python",
   "pygments_lexer": "ipython3",
   "version": "3.12.9"
  }
 },
 "nbformat": 4,
 "nbformat_minor": 4
}
