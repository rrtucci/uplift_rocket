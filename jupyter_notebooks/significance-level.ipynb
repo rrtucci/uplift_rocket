{
 "cells": [
  {
   "cell_type": "markdown",
   "metadata": {},
   "source": [
    "# Converting Significance Level (α) to Z-Score and Vice Versa Using SciPy\n",
    "\n",
    "(written mostly by Grok)\n",
    "This notebook demonstrates how to convert between a significance level (α) and a Z-score using Python's `scipy.stats.norm` module, which provides functions for the standard normal distribution. We include formulas, Python code, and explanations for both conversions, covering one-tailed and two-tailed tests.\n"
   ]
  },
  {
   "cell_type": "markdown",
   "metadata": {},
   "source": [
    "## 1. Significance Level to Z-Score\n",
    "\n",
    "The significance level (α) represents the probability in the tails of the standard normal distribution (e.g., α = 0.05 for a 5% significance level). To find the Z-score, we use the inverse cumulative distribution function (percent point function, `ppf`).\n",
    "\n",
    "### Formulas\n",
    "\n",
    "**Two-tailed test**:\n",
    "- α is split equally between the two tails (α/2 in each tail).\n",
    "- Z-score is found such that the area to the right of Z (or left of -Z) is α/2:\n",
    "  $$\n",
    "  Z = \\Phi^{-1}(1 - \\alpha/2)\n",
    "  $$\n",
    "  where $\\Phi^{-1}$ is the inverse of the standard normal CDF.\n",
    "\n",
    "**One-tailed test (right tail)**:\n",
    "- Z-score is found such that the area to the right of Z is α:\n",
    "  $$\n",
    "  Z = \\Phi^{-1}(1 - \\alpha)\n",
    "  $$\n",
    "\n",
    "**One-tailed test (left tail)**:\n",
    "- Z-score is found such that the area to the left of Z is α:\n",
    "  $$\n",
    "  Z = \\Phi^{-1}(\\alpha)\n",
    "  $$\n",
    "\n",
    "### Python Code\n",
    "Below, we compute Z-scores for a significance level of α = 0.05."
   ]
  },
  {
   "cell_type": "code",
   "execution_count": 1,
   "metadata": {},
   "outputs": [
    {
     "name": "stdout",
     "output_type": "stream",
     "text": [
      "Two-tailed Z-score for α = 0.05: 1.9600\n",
      "One-tailed (right) Z-score for α = 0.05: 1.6449\n",
      "One-tailed (left) Z-score for α = 0.05: -1.6449\n"
     ]
    }
   ],
   "source": [
    "from scipy.stats import norm\n",
    "\n",
    "# Significance level\n",
    "alpha = 0.05\n",
    "\n",
    "# Two-tailed test: Z-score for alpha/2 in each tail\n",
    "z_two_tailed = norm.ppf(1 - alpha / 2)\n",
    "print(f'Two-tailed Z-score for α = {alpha}: {z_two_tailed:.4f}')\n",
    "\n",
    "# One-tailed test (right tail): Z-score for alpha\n",
    "z_one_tailed_right = norm.ppf(1 - alpha)\n",
    "print(f'One-tailed (right) Z-score for α = {alpha}: {z_one_tailed_right:.4f}')\n",
    "\n",
    "# One-tailed test (left tail): Z-score for alpha\n",
    "z_one_tailed_left = norm.ppf(alpha)\n",
    "print(f'One-tailed (left) Z-score for α = {alpha}: {z_one_tailed_left:.4f}')"
   ]
  },
  {
   "cell_type": "markdown",
   "metadata": {},
   "source": [
    "### Explanation of Output\n",
    "- **Two-tailed**: For α = 0.05, the Z-score is approximately 1.9600, meaning each tail (α/2 = 0.025) corresponds to a Z-score of ±1.96.\n",
    "- **One-tailed (right)**: The Z-score is approximately 1.6449, where the right tail has area α = 0.05.\n",
    "- **One-tailed (left)**: The Z-score is approximately -1.6449, where the left tail has area α = 0.05."
   ]
  },
  {
   "cell_type": "markdown",
   "metadata": {},
   "source": [
    "## 2. Z-Score to Significance Level\n",
    "\n",
    "To convert a Z-score to a significance level (α), we calculate the tail probability using the cumulative distribution function (`cdf`) of the standard normal distribution.\n",
    "\n",
    "### Formulas\n",
    "\n",
    "**Two-tailed test**:\n",
    "- The total significance level is the sum of the probabilities in both tails:\n",
    "  $$\n",
    "  \\alpha = 2 \\cdot (1 - \\Phi(|Z|))\n",
    "  $$\n",
    "  where $\\Phi(Z)$ is the CDF of the standard normal distribution.\n",
    "\n",
    "**One-tailed test (right tail)**:\n",
    "- The significance level is the area to the right of Z:\n",
    "  $$\n",
    "  \\alpha = 1 - \\Phi(Z)\n",
    "  $$\n",
    "\n",
    "**One-tailed test (left tail)**:\n",
    "- The significance level is the area to the left of Z:\n",
    "  $$\n",
    "  \\alpha = \\Phi(Z)\n",
    "  $$\n",
    "\n",
    "### Python Code\n",
    "Below, we compute the significance level for a Z-score of 1.96."
   ]
  },
  {
   "cell_type": "code",
   "execution_count": 2,
   "metadata": {},
   "outputs": [
    {
     "name": "stdout",
     "output_type": "stream",
     "text": [
      "Two-tailed α for Z = 1.96: 0.0500\n",
      "One-tailed (right) α for Z = 1.96: 0.0250\n",
      "One-tailed (left) α for Z = 1.96: 0.9750\n"
     ]
    }
   ],
   "source": [
    "from scipy.stats import norm\n",
    "\n",
    "# Z-score\n",
    "z = 1.96\n",
    "\n",
    "# Two-tailed test: α = 2 * P(Z > |z|)\n",
    "alpha_two_tailed = 2 * (1 - norm.cdf(abs(z)))\n",
    "print(f'Two-tailed α for Z = {z}: {alpha_two_tailed:.4f}')\n",
    "\n",
    "# One-tailed test (right tail): α = P(Z > z)\n",
    "alpha_one_tailed_right = 1 - norm.cdf(z)\n",
    "print(f'One-tailed (right) α for Z = {z}: {alpha_one_tailed_right:.4f}')\n",
    "\n",
    "# One-tailed test (left tail): α = P(Z < z)\n",
    "alpha_one_tailed_left = norm.cdf(z)\n",
    "print(f'One-tailed (left) α for Z = {z}: {alpha_one_tailed_left:.4f}')"
   ]
  },
  {
   "cell_type": "markdown",
   "metadata": {},
   "source": [
    "### Explanation of Output\n",
    "- **Two-tailed**: For Z = 1.96, α is approximately 0.0500, meaning the total area in both tails is 5%.\n",
    "- **One-tailed (right)**: The area to the right of Z = 1.96 is approximately 0.0250 (half of the two-tailed α).\n",
    "- **One-tailed (left)**: The area to the left of Z = 1.96 is approximately 0.9750, which corresponds to the cumulative probability."
   ]
  },
  {
   "cell_type": "markdown",
   "metadata": {},
   "source": [
    "## Notes\n",
    "- The `norm.ppf` function computes the Z-score for a given cumulative probability (inverse CDF).\n",
    "- The `norm.cdf` function computes the cumulative probability for a given Z-score.\n",
    "- For two-tailed tests, use the absolute value of the Z-score and account for both tails.\n",
    "- The examples assume a standard normal distribution (mean = 0, standard deviation = 1).\n",
    "- For non-standard normal distributions, adjust the mean and standard deviation in `norm.ppf` or `norm.cdf` (e.g., `norm.ppf(1 - alpha, loc=mean, scale=std)`).\n"
   ]
  },
  {
   "cell_type": "code",
   "execution_count": null,
   "metadata": {},
   "outputs": [],
   "source": []
  }
 ],
 "metadata": {
  "kernelspec": {
   "display_name": "Python 3 (ipykernel)",
   "language": "python",
   "name": "python3"
  },
  "language_info": {
   "codemirror_mode": {
    "name": "ipython",
    "version": 3
   },
   "file_extension": ".py",
   "mimetype": "text/x-python",
   "name": "python",
   "nbconvert_exporter": "python",
   "pygments_lexer": "ipython3",
   "version": "3.12.9"
  }
 },
 "nbformat": 4,
 "nbformat_minor": 4
}
