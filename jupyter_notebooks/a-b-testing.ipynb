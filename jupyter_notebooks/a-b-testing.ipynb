{
 "cells": [
  {
   "cell_type": "markdown",
   "id": "42f0420a-877a-4187-b779-5c178c6d7fe3",
   "metadata": {},
   "source": [
    "# A/B testing\n",
    "![bnet-hypothesis-testing](../pics/bnet-hypothesis-testing.png)\n",
    "This figure comes from the chapter entitled \"A/B testing\" in my book \"Bayesuvius\".\n",
    "The purpose of this notebook is to calculat the quantities at the leaf nodes and maybe some intermediate quatities too, given the quantities at root nodes, using the statistics packages of `scipy`. A large fraction of this notebook was written by ChapGPT \n"
   ]
  },
  {
   "cell_type": "code",
   "execution_count": 1,
   "id": "0098231c-8d66-4d27-87bd-50c407eda2c0",
   "metadata": {
    "tags": []
   },
   "outputs": [
    {
     "name": "stdout",
     "output_type": "stream",
     "text": [
      "C:\\Users\\rrtuc\\Desktop\\backed-up\\python-projects\\uplift_rocket\n"
     ]
    }
   ],
   "source": [
    "# this makes sure it starts looking for things from the project folder down.\n",
    "import os\n",
    "import sys\n",
    "os.chdir('../')\n",
    "sys.path.insert(0,os.getcwd())\n",
    "print(os.getcwd())"
   ]
  },
  {
   "cell_type": "code",
   "execution_count": 2,
   "id": "4accbfd6-f1ac-42d1-ae2a-e41c6d67f13b",
   "metadata": {
    "tags": []
   },
   "outputs": [],
   "source": [
    "import numpy as np\n",
    "from scipy import stats\n",
    "from statsmodels.stats.power import NormalIndPower\n",
    "from statsmodels.stats.proportion import proportions_ztest, confint_proportions_2indep"
   ]
  },
  {
   "cell_type": "markdown",
   "id": "968632fe-8d31-4ad3-b5b4-421bf93afd45",
   "metadata": {},
   "source": [
    "## Scenario: Email Campaign\n",
    "\n",
    "**Goal:** Increase click-through rate (CTR) for a promotional email.\n",
    "\n",
    "**A/B Test Setup:**\n",
    "\n",
    "* **Version A (Control):** Subject line — ``Get 20\\% Off Your Next Order!''\n",
    "* **Version B (Variant):** Subject line — ``Your Exclusive 20\\% Discount Is Waiting!''\n",
    "\n",
    "**Execution:**\n",
    "\n",
    "* Version A is sent to 50\\% of the email list.\n",
    "* Version B is sent to the other 50\\%.\n",
    "* All other elements in the email are kept constant.\n",
    "\n",
    "**Outcome:**\n",
    "\n",
    "* Version A: 12\\% CTR.\n",
    "* Version B: 17\\% CTR.\n",
    "\n",
    "**Conclusion:** Version B performs better and is chosen for future campaigns."
   ]
  },
  {
   "cell_type": "markdown",
   "id": "0ae6dceb-045c-4052-b73a-6b9d4ea7864b",
   "metadata": {
    "tags": []
   },
   "source": [
    "## Hypotheses\n",
    "* Null Hypothesis $H_0: p_A = p_B$\n",
    "* Alternative Hypothesis $H_1: p_B > p_A$"
   ]
  },
  {
   "cell_type": "markdown",
   "id": "7153b330-d1fb-4bf3-b487-68fa75ae68ca",
   "metadata": {},
   "source": [
    "## parameter values"
   ]
  },
  {
   "cell_type": "code",
   "execution_count": 3,
   "id": "f8031356-96c6-4957-983f-cc9ae20aa8ea",
   "metadata": {},
   "outputs": [],
   "source": [
    "p1 = 0.12  # CTR of Version A\n",
    "p2 = 0.17  # CTR of Version B\n",
    "effect_size = abs(p2 - p1)\n",
    "alpha = 0.05  # Significance level\n",
    "power = 0.8   # Desired power"
   ]
  },
  {
   "cell_type": "code",
   "execution_count": 4,
   "id": "0edd4f73-09cb-48ab-b5f8-134ecc8cebf3",
   "metadata": {},
   "outputs": [],
   "source": [
    "# p2-p1, standard deviation"
   ]
  },
  {
   "cell_type": "code",
   "execution_count": 5,
   "id": "10a4a20e-fa5e-4833-8558-afb9f3f69723",
   "metadata": {
    "tags": []
   },
   "outputs": [
    {
     "name": "stdout",
     "output_type": "stream",
     "text": [
      "p2-p1= 0.0500\n",
      "p_pool= 0.1450\n",
      "std_dev= 0.4979\n"
     ]
    }
   ],
   "source": [
    "print(\"p2-p1=\", f\"{p2-p1:.4f}\")\n",
    "\n",
    "# Compute pooled standard deviation for proportions\n",
    "p_pool = (p1 + p2) / 2\n",
    "std_dev = np.sqrt(2 * p_pool * (1 - p_pool))\n",
    "print(\"p_pool=\", f\"{p_pool:.4f}\")\n",
    "print(\"std_dev=\", f\"{std_dev:.4f}\")"
   ]
  },
  {
   "cell_type": "markdown",
   "id": "6d627c1d-70f9-4268-8157-a51056a28526",
   "metadata": {},
   "source": [
    "## Required Sample Size $n$"
   ]
  },
  {
   "cell_type": "code",
   "execution_count": 6,
   "id": "e06bea5b-c007-43f6-8280-28be318e1e34",
   "metadata": {
    "tags": []
   },
   "outputs": [
    {
     "name": "stdout",
     "output_type": "stream",
     "text": [
      "Required sample size per group: 609\n"
     ]
    }
   ],
   "source": [
    "# Calculate Cohen's h\n",
    "cohen_h = 2 * np.arcsin(np.sqrt(p2)) - 2 * np.arcsin(np.sqrt(p1))\n",
    "\n",
    "# Power analysis\n",
    "power_analysis = NormalIndPower()\n",
    "sample_size = power_analysis.solve_power(effect_size=cohen_h, \n",
    "                                         alpha=alpha, \n",
    "                                         power=power, \n",
    "                                         alternative='larger')\n",
    "\n",
    "print(f\"Required sample size per group: {int(np.ceil(sample_size))}\")\n"
   ]
  },
  {
   "cell_type": "markdown",
   "id": "3423581e-fa3e-4cb0-a614-815d43579e5c",
   "metadata": {},
   "source": [
    "## Confidence Interval"
   ]
  },
  {
   "cell_type": "code",
   "execution_count": 7,
   "id": "568f1364-0ef9-4e9c-b00c-094c453c1338",
   "metadata": {
    "tags": []
   },
   "outputs": [
    {
     "name": "stdout",
     "output_type": "stream",
     "text": [
      "95% Confidence interval for difference in proportions: (-0.0808, -0.0192)\n"
     ]
    }
   ],
   "source": [
    "# Observed values\n",
    "successes = np.array([120, 170])  # clicks\n",
    "samples = np.array([1000, 1000])  # total emails sent\n",
    "\n",
    "# Confidence interval\n",
    "ci_low, ci_upp = confint_proportions_2indep(count1=successes[0], nobs1=samples[0],\n",
    "                                            count2=successes[1], nobs2=samples[1],\n",
    "                                            method='wald')\n",
    "\n",
    "print(f\"95% Confidence interval for difference in proportions: ({ci_low:.4f}, {ci_upp:.4f})\")"
   ]
  },
  {
   "cell_type": "code",
   "execution_count": 8,
   "id": "9acfbf85-6137-42fa-b0bf-cafdc0689236",
   "metadata": {
    "tags": []
   },
   "outputs": [
    {
     "name": "stdout",
     "output_type": "stream",
     "text": [
      "Z-statistic: -3.1753\n",
      "P-value: 0.9993\n"
     ]
    }
   ],
   "source": [
    "# One-sided z-test (H1: p2 > p1)\n",
    "z_stat, p_value = proportions_ztest(successes, samples, alternative='larger')\n",
    "\n",
    "print(f\"Z-statistic: {z_stat:.4f}\")\n",
    "print(f\"P-value: {p_value:.4f}\")"
   ]
  },
  {
   "cell_type": "markdown",
   "id": "a5f1ad9d-6ea5-4f82-92d4-326bb1ad2b65",
   "metadata": {},
   "source": [
    "## interpretation\n",
    "If the p-value < 0.05, you reject $H_0$ and conclude Version B is significantly better.\n",
    "\n",
    "If the confidence interval for p2-p1\n",
    "  doesn't include 0, that  is also significant."
   ]
  },
  {
   "cell_type": "code",
   "execution_count": null,
   "id": "04dff389-0419-4ce0-9e80-82a661494399",
   "metadata": {},
   "outputs": [],
   "source": []
  }
 ],
 "metadata": {
  "kernelspec": {
   "display_name": "Python 3 (ipykernel)",
   "language": "python",
   "name": "python3"
  },
  "language_info": {
   "codemirror_mode": {
    "name": "ipython",
    "version": 3
   },
   "file_extension": ".py",
   "mimetype": "text/x-python",
   "name": "python",
   "nbconvert_exporter": "python",
   "pygments_lexer": "ipython3",
   "version": "3.12.9"
  }
 },
 "nbformat": 4,
 "nbformat_minor": 5
}
